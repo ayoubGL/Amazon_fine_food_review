{
 "cells": [
  {
   "cell_type": "markdown",
   "metadata": {},
   "source": [
    "# Amazon Fine Food Reviews Analysis\n",
    "Data source : https://www.kaggle.com/snap/amazon-fine-food-reviews\n",
    "\n",
    "EDA: https://nycdatascience.com/blog/student-works/amazon-fine-foods-visualization/\n",
    "\n",
    "The Amazon Fine Food Reviews dataset consists of reviews of fine foods from Amazon.\n",
    "\n",
    "Number of reviews: 568,454 <br>\n",
    "Number of users: 256,059 <br>\n",
    "Number of products: 74,258 <br>\n",
    "Timespan: Oct 1999 - Oct 2012 <br>\n",
    "Number of Attributes/Columns in data: 10  <br>"
   ]
  },
  {
   "cell_type": "markdown",
   "metadata": {},
   "source": [
    "# Objective\n",
    "Classfication of positive and negative reviews used ML algo\n",
    "Given a review, determine wheter the review is positive (rating 4 or 5) or negative\n",
    "\n",
    "Given a review, determine whether the review is positive (rating of 4 or 5) or negative (rating of 1 or 2).\n",
    "\n",
    "__[Q]__ How to determine if a review is positive or negative?\n",
    "\n",
    "__[Ans]__ We could use Score/Rating. A rating of 4 or 5 can be cosnidered as a positive review. A rating of 1 or 2 can be considered as negative one. A review of rating 3 is considered nuetral and such reviews are ignored from our analysis. This is an approximate and proxy way of determining the polarity (positivity/negativity) of a review."
   ]
  },
  {
   "cell_type": "markdown",
   "metadata": {},
   "source": [
    "# Importing Libraries"
   ]
  },
  {
   "cell_type": "code",
   "execution_count": 1,
   "metadata": {},
   "outputs": [],
   "source": [
    "import warnings\n",
    "warnings.filterwarnings('ignore')\n",
    "#for large and multi-dim arrays\n",
    "import numpy as np\n",
    "#for data manipulation and analysis\n",
    "import pandas as pd\n",
    "#Natural language processing\n",
    "import nltk\n",
    "#Stopwords corpus\n",
    "from nltk.corpus import stopwords\n",
    "#Stemmer\n",
    "from nltk.stem import PorterStemmer\n",
    "#Bag of Words\n",
    "from sklearn.feature_extraction.text import CountVectorizer\n",
    "#TF_IDF\n",
    "from sklearn.feature_extraction.text import TfidfTransformer\n",
    "# Word2Vec\n",
    "from gensim.models import Word2Vec\n",
    "\n",
    "import matplotlib.pyplot as plt\n",
    "from sklearn.metrics import classification_report,confusion_matrix,accuracy_score\n",
    "import seaborn as sns"
   ]
  },
  {
   "cell_type": "code",
   "execution_count": null,
   "metadata": {},
   "outputs": [],
   "source": [
    "df = pd.read_csv('Reviews.csv')\n",
    "df.head()"
   ]
  }
 ],
 "metadata": {
  "kernelspec": {
   "display_name": "Python 3",
   "language": "python",
   "name": "python3"
  },
  "language_info": {
   "codemirror_mode": {
    "name": "ipython",
    "version": 3
   },
   "file_extension": ".py",
   "mimetype": "text/x-python",
   "name": "python",
   "nbconvert_exporter": "python",
   "pygments_lexer": "ipython3",
   "version": "3.6.8"
  }
 },
 "nbformat": 4,
 "nbformat_minor": 2
}
